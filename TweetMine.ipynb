{
 "cells": [
  {
   "cell_type": "markdown",
   "metadata": {},
   "source": [
    "Messing around with Twitter API and PANDAS"
   ]
  },
  {
   "cell_type": "markdown",
   "metadata": {},
   "source": [
    "# Load tweets into a text file"
   ]
  },
  {
   "cell_type": "code",
   "execution_count": 17,
   "metadata": {
    "collapsed": false
   },
   "outputs": [],
   "source": [
    "import tweepy\n",
    "import config \n",
    "import json\n",
    "from tweepy import OAuthHandler\n",
    "\n",
    "auth = OAuthHandler(config.consumer_key,config.consumer_secret)\n",
    "auth.set_access_token(config.access_token,config.access_secret)\n",
    "api = tweepy.API(auth)\n",
    "\n",
    "def store(tweet):\n",
    "    output.write(json.dumps(tweet)+'\\n')\n",
    "\n",
    "file_name = 'trumptweets.json'\n",
    "output = open(file_name,\"w\")\n",
    "\n",
    "num_tweets = 400 # number of tweets to retrieve\n",
    "for tweet in tweepy.Cursor(api.user_timeline, id=\"realDonaldTrump\").items(num_tweets):\n",
    "    store(tweet._json)\n",
    "    \n",
    "output.close()\n"
   ]
  },
  {
   "cell_type": "markdown",
   "metadata": {},
   "source": [
    "# Parse JSON data"
   ]
  },
  {
   "cell_type": "code",
   "execution_count": 18,
   "metadata": {
    "collapsed": false
   },
   "outputs": [
    {
     "data": {
      "text/html": [
       "<div>\n",
       "<table border=\"1\" class=\"dataframe\">\n",
       "  <thead>\n",
       "    <tr style=\"text-align: right;\">\n",
       "      <th></th>\n",
       "      <th>favorite_count</th>\n",
       "      <th>followers_count</th>\n",
       "      <th>retweet_count</th>\n",
       "    </tr>\n",
       "  </thead>\n",
       "  <tbody>\n",
       "    <tr>\n",
       "      <th>count</th>\n",
       "      <td>400.000000</td>\n",
       "      <td>4.000000e+02</td>\n",
       "      <td>400.000000</td>\n",
       "    </tr>\n",
       "    <tr>\n",
       "      <th>mean</th>\n",
       "      <td>100568.892500</td>\n",
       "      <td>2.556025e+07</td>\n",
       "      <td>22698.367500</td>\n",
       "    </tr>\n",
       "    <tr>\n",
       "      <th>std</th>\n",
       "      <td>54501.505545</td>\n",
       "      <td>2.182179e-01</td>\n",
       "      <td>14009.313365</td>\n",
       "    </tr>\n",
       "    <tr>\n",
       "      <th>min</th>\n",
       "      <td>0.000000</td>\n",
       "      <td>2.556025e+07</td>\n",
       "      <td>4025.000000</td>\n",
       "    </tr>\n",
       "    <tr>\n",
       "      <th>25%</th>\n",
       "      <td>65766.000000</td>\n",
       "      <td>2.556026e+07</td>\n",
       "      <td>13946.500000</td>\n",
       "    </tr>\n",
       "    <tr>\n",
       "      <th>50%</th>\n",
       "      <td>90057.500000</td>\n",
       "      <td>2.556026e+07</td>\n",
       "      <td>19142.000000</td>\n",
       "    </tr>\n",
       "    <tr>\n",
       "      <th>75%</th>\n",
       "      <td>126452.250000</td>\n",
       "      <td>2.556026e+07</td>\n",
       "      <td>28328.000000</td>\n",
       "    </tr>\n",
       "    <tr>\n",
       "      <th>max</th>\n",
       "      <td>396561.000000</td>\n",
       "      <td>2.556026e+07</td>\n",
       "      <td>142169.000000</td>\n",
       "    </tr>\n",
       "  </tbody>\n",
       "</table>\n",
       "</div>"
      ],
      "text/plain": [
       "       favorite_count  followers_count  retweet_count\n",
       "count      400.000000     4.000000e+02     400.000000\n",
       "mean    100568.892500     2.556025e+07   22698.367500\n",
       "std      54501.505545     2.182179e-01   14009.313365\n",
       "min          0.000000     2.556025e+07    4025.000000\n",
       "25%      65766.000000     2.556026e+07   13946.500000\n",
       "50%      90057.500000     2.556026e+07   19142.000000\n",
       "75%     126452.250000     2.556026e+07   28328.000000\n",
       "max     396561.000000     2.556026e+07  142169.000000"
      ]
     },
     "execution_count": 18,
     "metadata": {},
     "output_type": "execute_result"
    }
   ],
   "source": [
    "import json\n",
    "import pandas as pd \n",
    "\n",
    "def load_tweets(file):\n",
    "    with open(file,'r') as f:\n",
    "        tweets = (json.loads(line) for i, line in enumerate(f.readlines()))\n",
    "    return tweets\n",
    "\n",
    "# Select the attributes needed\n",
    "data = {'text': [], 'created_at': [], 'retweet_count': [], 'favorite_count': [], 'followers_count': []}\n",
    "        \n",
    "tweets = load_tweets(file_name)\n",
    "for t in tweets:\n",
    "    data['text'].append(t['text'])\n",
    "    data['retweet_count'].append(t['retweet_count'])\n",
    "    data['created_at'].append(t['created_at'])\n",
    "    data['favorite_count'].append(t['favorite_count'])\n",
    "    data['followers_count'].append(t['user']['followers_count'])\n",
    "    \n",
    "df = pd.DataFrame(data)\n",
    "df['created_at'] = pd.to_datetime(df['created_at']) # convert to datetime data type\n",
    "\n",
    "df.describe()"
   ]
  },
  {
   "cell_type": "code",
   "execution_count": null,
   "metadata": {
    "collapsed": true
   },
   "outputs": [],
   "source": []
  }
 ],
 "metadata": {
  "kernelspec": {
   "display_name": "Python 3",
   "language": "python",
   "name": "python3"
  },
  "language_info": {
   "codemirror_mode": {
    "name": "ipython",
    "version": 3
   },
   "file_extension": ".py",
   "mimetype": "text/x-python",
   "name": "python",
   "nbconvert_exporter": "python",
   "pygments_lexer": "ipython3",
   "version": "3.6.0"
  }
 },
 "nbformat": 4,
 "nbformat_minor": 2
}
