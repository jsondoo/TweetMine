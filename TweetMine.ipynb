{
 "cells": [
  {
   "cell_type": "markdown",
   "metadata": {},
   "source": [
    "# Load tweets into a text file"
   ]
  },
  {
   "cell_type": "code",
   "execution_count": 49,
   "metadata": {
    "collapsed": true
   },
   "outputs": [],
   "source": [
    "import tweepy\n",
    "import config \n",
    "import json\n",
    "from tweepy import OAuthHandler\n",
    "\n",
    "auth = OAuthHandler(config.consumer_key,config.consumer_secret)\n",
    "auth.set_access_token(config.access_token,config.access_secret)\n",
    "api = tweepy.API(auth)\n",
    "\n",
    "def store(tweet):\n",
    "    output.write(json.dumps(tweet)+\"\\n\")\n",
    "\n",
    "file_name = \"trumptweets.txt\"\n",
    "output = open(file_name,\"w\")\n",
    "\n",
    "num_tweets = 200 # number of tweets to retrieve\n",
    "for tweet in tweepy.Cursor(api.user_timeline, id=\"realDonaldTrump\").items(num_tweets):\n",
    "    store(tweet._json)\n",
    "    \n",
    "output.close()\n"
   ]
  },
  {
   "cell_type": "markdown",
   "metadata": {},
   "source": [
    "# Parse JSON data"
   ]
  },
  {
   "cell_type": "code",
   "execution_count": 50,
   "metadata": {
    "collapsed": false
   },
   "outputs": [
    {
     "name": "stdout",
     "output_type": "stream",
     "text": [
      "200\n"
     ]
    },
    {
     "data": {
      "image/png": "[encoded data removed]",
      "text/plain": [
       "<matplotlib.figure.Figure at 0x10f2ebeb8>"
      ]
     },
     "metadata": {},
     "output_type": "display_data"
    }
   ],
   "source": [
    "import json\n",
    "import pandas as pd # library for data manipulation\n",
    "import matplotlib.pyplot as plt\n",
    "\n",
    "data_path = 'trumptweets.txt'\n",
    "\n",
    "# load array with tweets\n",
    "data = []\n",
    "tweets_file = open(data_path,\"r\")\n",
    "for line in tweets_file:\n",
    "    try:\n",
    "        tweet = json.loads(line)\n",
    "        data.append(tweet)\n",
    "    except:\n",
    "        continue\n",
    "\n",
    "# print number of tweets\n",
    "print(len(data)) \n",
    "\n",
    "tweets = pd.DataFrame()\n",
    "tweets['text'] = map(lambda tweet: tweet['text'], data)\n",
    "tweets['lang'] = map(lambda tweet: tweet['lang'], data)\n",
    "\n",
    "tweets_by_lang = tweets['lang'].value_counts()\n",
    "\n",
    "fig,ax=plt.subplots()\n",
    "ax.tick_params(axis='x', labelsize=15)\n",
    "ax.tick_params(axis='y', labelsize=10)\n",
    "ax.set_xlabel('Languages', fontsize=15)\n",
    "ax.set_ylabel('Number of tweets', fontsize=15)\n",
    "ax.set_title('Top 5 languages', fontsize=15, fontweight='bold')\n",
    "tweets_by_lang[:5].plot(ax=ax, kind='bar', color='red')\n",
    "plt.show()\n",
    "\n"
   ]
  },
  {
   "cell_type": "raw",
   "metadata": {},
   "source": [
    "panda panda"
   ]
  }
 ],
 "metadata": {
  "kernelspec": {
   "display_name": "Python 3",
   "language": "python",
   "name": "python3"
  },
  "language_info": {
   "codemirror_mode": {
    "name": "ipython",
    "version": 3
   },
   "file_extension": ".py",
   "mimetype": "text/x-python",
   "name": "python",
   "nbconvert_exporter": "python",
   "pygments_lexer": "ipython3",
   "version": "3.6.0"
  }
 },
 "nbformat": 4,
 "nbformat_minor": 2
}
